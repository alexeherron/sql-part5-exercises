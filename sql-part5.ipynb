{
    "metadata": {
        "kernelspec": {
            "name": "SQL",
            "display_name": "SQL",
            "language": "sql"
        },
        "language_info": {
            "name": "sql",
            "version": ""
        }
    },
    "nbformat_minor": 2,
    "nbformat": 4,
    "cells": [
        {
            "cell_type": "markdown",
            "source": [
                "# Exercises: Creating, Updating, and Destroying Objects\n",
                "\n",
                "For the exercises, you will be working with objects and data you create. Before opening this notebook, make sure that you have set up the new connection to the server and that you have located the database and your schema.\n",
                "\n",
                "## Object Creation\n",
                "\n",
                "Before coding, think of three things you want to make. These could be coding projects, new recipes, or planned projects for a woodworking hobby. Brainstorm the appropriate column names and data types as well.\n",
                "\n",
                "Create a table under your schema called `planned_makes`."
            ],
            "metadata": {
                "azdata_cell_guid": "9d51c166-0c19-4f27-a422-2a6cf596bfb2"
            },
            "attachments": {}
        },
        {
            "cell_type": "code",
            "source": [
                "CREATE TABLE Alex.planned_makes(\r\n",
                "    ramen_id INT PRIMARY KEY IDENTITY (1,1),\r\n",
                "    ramen_recipe_name VARCHAR(50) NOT NULL,\r\n",
                "    ramen_veggie_id INT,\r\n",
                "    ramen_protein_id INT,\r\n",
                "    ramen_price_id FLOAT\r\n",
                ")"
            ],
            "metadata": {
                "azdata_cell_guid": "d9238911-6f81-4f01-980d-b584307effaf",
                "language": "sql"
            },
            "outputs": [
                {
                    "output_type": "display_data",
                    "data": {
                        "text/html": "Commands completed successfully."
                    },
                    "metadata": {}
                },
                {
                    "output_type": "display_data",
                    "data": {
                        "text/html": "Total execution time: 00:00:00.065"
                    },
                    "metadata": {}
                }
            ],
            "execution_count": 1
        },
        {
            "cell_type": "markdown",
            "source": [
                "Add three rows to your table that are your planned makes."
            ],
            "metadata": {
                "azdata_cell_guid": "83cdf34d-8c4f-4fa1-a14e-77384b19d734"
            }
        },
        {
            "cell_type": "code",
            "source": [
                "INSERT INTO Alex.planned_makes(ramen_recipe_name, ramen_veggie_id, ramen_protein_id, ramen_price_id)\r\n",
                "VALUES('Green Goddess', 2, 4, 10.55);\r\n",
                "INSERT INTO Alex.planned_makes(ramen_recipe_name, ramen_veggie_id, ramen_protein_id, ramen_price_id)\r\n",
                "VALUES('Double Soup', 3, 2, 14.55);\r\n",
                "INSERT INTO Alex.planned_makes(ramen_recipe_name, ramen_veggie_id, ramen_protein_id, ramen_price_id)\r\n",
                "VALUES('Hawaiian', 5, 3, 13.55);\r\n",
                ""
            ],
            "metadata": {
                "azdata_cell_guid": "e7cff9cb-87ba-4c7b-98f2-eaf445e8719c",
                "language": "sql"
            },
            "outputs": [
                {
                    "output_type": "error",
                    "evalue": "Msg 64, Level 20, State 0, Line 0\r\nA transport-level error has occurred when receiving results from the server. (provider: TCP Provider, error: 0 - The specified network name is no longer available.)",
                    "ename": "",
                    "traceback": []
                },
                {
                    "output_type": "display_data",
                    "data": {
                        "text/html": "Total execution time: 00:00:02.412"
                    },
                    "metadata": {}
                }
            ],
            "execution_count": 6
        },
        {
            "cell_type": "code",
            "source": [
                "SELECT *\r\n",
                "FROM Alex.planned_makes;"
            ],
            "metadata": {
                "language": "sql",
                "azdata_cell_guid": "1ca7d4f8-ea68-4b31-9aae-8e8579671e8f"
            },
            "outputs": [
                {
                    "output_type": "display_data",
                    "data": {
                        "text/html": "(4 rows affected)"
                    },
                    "metadata": {}
                },
                {
                    "output_type": "display_data",
                    "data": {
                        "text/html": "Total execution time: 00:00:00.065"
                    },
                    "metadata": {}
                },
                {
                    "output_type": "execute_result",
                    "execution_count": 5,
                    "data": {
                        "application/vnd.dataresource+json": {
                            "schema": {
                                "fields": [
                                    {
                                        "name": "ramen_id"
                                    },
                                    {
                                        "name": "ramen_recipe_name"
                                    },
                                    {
                                        "name": "ramen_veggie_id"
                                    },
                                    {
                                        "name": "ramen_protein_id"
                                    },
                                    {
                                        "name": "ramen_price_id"
                                    }
                                ]
                            },
                            "data": [
                                {
                                    "0": "2",
                                    "1": "Green Goddess",
                                    "2": "2",
                                    "3": "4",
                                    "4": "10.55"
                                },
                                {
                                    "0": "3",
                                    "1": "Green Goddess",
                                    "2": "2",
                                    "3": "4",
                                    "4": "10.55"
                                },
                                {
                                    "0": "4",
                                    "1": "Double Soup",
                                    "2": "3",
                                    "3": "2",
                                    "4": "14.55"
                                },
                                {
                                    "0": "5",
                                    "1": "Hawaiian",
                                    "2": "5",
                                    "3": "3",
                                    "4": "13.55"
                                }
                            ]
                        },
                        "text/html": "<table><tr><th>ramen_id</th><th>ramen_recipe_name</th><th>ramen_veggie_id</th><th>ramen_protein_id</th><th>ramen_price_id</th></tr><tr><td>2</td><td>Green Goddess</td><td>2</td><td>4</td><td>10.55</td></tr><tr><td>3</td><td>Green Goddess</td><td>2</td><td>4</td><td>10.55</td></tr><tr><td>4</td><td>Double Soup</td><td>3</td><td>2</td><td>14.55</td></tr><tr><td>5</td><td>Hawaiian</td><td>5</td><td>3</td><td>13.55</td></tr></table>"
                    },
                    "metadata": {}
                }
            ],
            "execution_count": 5
        },
        {
            "cell_type": "code",
            "source": [
                "DELETE FROM Alex.planned_makes\r\n",
                "WHERE ramen_id = 2;"
            ],
            "metadata": {
                "azdata_cell_guid": "d6dcc7ce-c875-412b-a7da-f59b55531ae0",
                "language": "sql"
            },
            "outputs": [
                {
                    "output_type": "display_data",
                    "data": {
                        "text/html": "(1 row affected)"
                    },
                    "metadata": {}
                },
                {
                    "output_type": "display_data",
                    "data": {
                        "text/html": "Total execution time: 00:00:00.048"
                    },
                    "metadata": {}
                }
            ],
            "execution_count": 6
        },
        {
            "cell_type": "code",
            "source": [
                "SELECT * FROM Alex.planned_makes;"
            ],
            "metadata": {
                "language": "sql",
                "azdata_cell_guid": "23ddff8e-20a9-4a53-a539-eeb2c1276b43"
            },
            "outputs": [
                {
                    "output_type": "display_data",
                    "data": {
                        "text/html": "(3 rows affected)"
                    },
                    "metadata": {}
                },
                {
                    "output_type": "display_data",
                    "data": {
                        "text/html": "Total execution time: 00:00:00.057"
                    },
                    "metadata": {}
                },
                {
                    "output_type": "execute_result",
                    "execution_count": 7,
                    "data": {
                        "application/vnd.dataresource+json": {
                            "schema": {
                                "fields": [
                                    {
                                        "name": "ramen_id"
                                    },
                                    {
                                        "name": "ramen_recipe_name"
                                    },
                                    {
                                        "name": "ramen_veggie_id"
                                    },
                                    {
                                        "name": "ramen_protein_id"
                                    },
                                    {
                                        "name": "ramen_price_id"
                                    }
                                ]
                            },
                            "data": [
                                {
                                    "0": "3",
                                    "1": "Green Goddess",
                                    "2": "2",
                                    "3": "4",
                                    "4": "10.55"
                                },
                                {
                                    "0": "4",
                                    "1": "Double Soup",
                                    "2": "3",
                                    "3": "2",
                                    "4": "14.55"
                                },
                                {
                                    "0": "5",
                                    "1": "Hawaiian",
                                    "2": "5",
                                    "3": "3",
                                    "4": "13.55"
                                }
                            ]
                        },
                        "text/html": "<table><tr><th>ramen_id</th><th>ramen_recipe_name</th><th>ramen_veggie_id</th><th>ramen_protein_id</th><th>ramen_price_id</th></tr><tr><td>3</td><td>Green Goddess</td><td>2</td><td>4</td><td>10.55</td></tr><tr><td>4</td><td>Double Soup</td><td>3</td><td>2</td><td>14.55</td></tr><tr><td>5</td><td>Hawaiian</td><td>5</td><td>3</td><td>13.55</td></tr></table>"
                    },
                    "metadata": {}
                }
            ],
            "execution_count": 7
        },
        {
            "cell_type": "markdown",
            "source": [
                "## Update a Row\n",
                "\n",
                "Change different values in one of your three rows."
            ],
            "metadata": {
                "azdata_cell_guid": "4a39b8d4-ae97-4e09-8336-c5fc6a00d76c"
            },
            "attachments": {}
        },
        {
            "cell_type": "code",
            "source": [
                "UPDATE Alex.planned_makes\r\n",
                "SET ramen_price_id = 15.55\r\n",
                "WHERE ramen_recipe_name = 'Double Soup';"
            ],
            "metadata": {
                "azdata_cell_guid": "7409c695-9581-4ad8-b03a-574d2c4c87cb",
                "language": "sql"
            },
            "outputs": [
                {
                    "output_type": "display_data",
                    "data": {
                        "text/html": "(1 row affected)"
                    },
                    "metadata": {}
                },
                {
                    "output_type": "display_data",
                    "data": {
                        "text/html": "Total execution time: 00:00:00.049"
                    },
                    "metadata": {}
                }
            ],
            "execution_count": 8
        },
        {
            "cell_type": "markdown",
            "source": [
                "## Delete a Row\n",
                "\n",
                "Delete one of the rows from your table."
            ],
            "metadata": {
                "azdata_cell_guid": "95e91a6e-9038-42d9-9401-5738842aba17"
            }
        },
        {
            "cell_type": "code",
            "source": [
                "DELETE FROM Alex.planned_makes\r\n",
                "WHERE ramen_recipe_name = 'Hawaiian';"
            ],
            "metadata": {
                "azdata_cell_guid": "749c748f-19b5-4c69-9004-b6b20216616a",
                "language": "sql"
            },
            "outputs": [
                {
                    "output_type": "display_data",
                    "data": {
                        "text/html": "(1 row affected)"
                    },
                    "metadata": {}
                },
                {
                    "output_type": "display_data",
                    "data": {
                        "text/html": "Total execution time: 00:00:00.046"
                    },
                    "metadata": {}
                }
            ],
            "execution_count": 9
        },
        {
            "cell_type": "markdown",
            "source": [
                "## Drop the Table\n",
                "\n",
                "While this has been fun, it is time to drop the table!"
            ],
            "metadata": {
                "azdata_cell_guid": "2239cb09-137b-4579-905b-1aa020793181"
            },
            "attachments": {}
        },
        {
            "cell_type": "code",
            "source": [
                "DROP TABLE Alex.planned_makes;"
            ],
            "metadata": {
                "azdata_cell_guid": "b3c7f6ea-ee26-46b3-9c2a-2f7a82c39699",
                "language": "sql"
            },
            "outputs": [
                {
                    "output_type": "display_data",
                    "data": {
                        "text/html": "Commands completed successfully."
                    },
                    "metadata": {}
                },
                {
                    "output_type": "display_data",
                    "data": {
                        "text/html": "Total execution time: 00:00:00.381"
                    },
                    "metadata": {}
                }
            ],
            "execution_count": 7
        }
    ]
}